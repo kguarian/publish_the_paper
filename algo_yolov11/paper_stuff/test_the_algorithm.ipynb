{
 "cells": [
  {
   "cell_type": "code",
   "execution_count": 5,
   "metadata": {},
   "outputs": [
    {
     "ename": "ModuleNotFoundError",
     "evalue": "No module named 'ultralytics'",
     "output_type": "error",
     "traceback": [
      "\u001b[0;31m---------------------------------------------------------------------------\u001b[0m",
      "\u001b[0;31mModuleNotFoundError\u001b[0m                       Traceback (most recent call last)",
      "Cell \u001b[0;32mIn[5], line 4\u001b[0m\n\u001b[1;32m      2\u001b[0m \u001b[38;5;28;01mimport\u001b[39;00m \u001b[38;5;21;01mrandom\u001b[39;00m\n\u001b[1;32m      3\u001b[0m \u001b[38;5;28;01mfrom\u001b[39;00m \u001b[38;5;21;01mmath\u001b[39;00m \u001b[38;5;28;01mimport\u001b[39;00m ceil, sqrt\n\u001b[0;32m----> 4\u001b[0m \u001b[38;5;28;01mfrom\u001b[39;00m \u001b[38;5;21;01multralytics\u001b[39;00m \u001b[38;5;28;01mimport\u001b[39;00m YOLO\n\u001b[1;32m      5\u001b[0m \u001b[38;5;28;01mfrom\u001b[39;00m \u001b[38;5;21;01mPIL\u001b[39;00m \u001b[38;5;28;01mimport\u001b[39;00m Image, ImageDraw, ImageFont\n",
      "\u001b[0;31mModuleNotFoundError\u001b[0m: No module named 'ultralytics'"
     ]
    }
   ],
   "source": [
    "import os\n",
    "import random\n",
    "from math import ceil, sqrt\n",
    "from ultralytics import YOLO\n",
    "from PIL import Image, ImageDraw, ImageFont\n",
    "\n"
   ]
  },
  {
   "cell_type": "code",
   "execution_count": 16,
   "metadata": {},
   "outputs": [],
   "source": [
    "# Path to the test directory\n",
    "test_dir = \"/Users/kenton/HOME/coding/python/publish_the_paper/yolov11/dataset_tinkering/training_data_pn/images/test\"\n",
    "output_collage = \"collage_with_boxes.png\"\n",
    "\n",
    "# Load the model\n",
    "model = YOLO(\n",
    "    \"/Users/kenton/HOME/coding/python/publish_the_paper/runs/detect/train50/weights/best.pt\"\n",
    ")\n",
    "\n",
    "# Get all image files in the directory\n",
    "all_images = [\n",
    "    os.path.join(test_dir, f)\n",
    "    for f in os.listdir(test_dir)\n",
    "    if f.lower().endswith((\".png\", \".jpg\", \".jpeg\"))\n",
    "]\n",
    "\n",
    "# Randomly select 100 images (or fewer if there are not enough images)\n",
    "random_images = random.sample(all_images, min(len(all_images), 100))\n",
    "\n",
    "# Optional: Load a font for better text rendering\n",
    "try:\n",
    "    font = ImageFont.truetype(\"arial.ttf\", size=16)  # Use a font installed on your system\n",
    "except IOError:\n",
    "    font = ImageFont.load_default()\n"
   ]
  },
  {
   "cell_type": "code",
   "execution_count": null,
   "metadata": {},
   "outputs": [],
   "source": [
    "# Annotate each selected image\n",
    "annotated_images = []\n",
    "for image_path in random_images:\n",
    "    # Predict results for the image\n",
    "    results = model.predict(source=image_path, conf=0.8)\n",
    "\n",
    "    # Load the image using PIL\n",
    "    image = Image.open(image_path).convert(\"RGB\")\n",
    "    draw = ImageDraw.Draw(image)\n",
    "\n",
    "    # Process model predictions\n",
    "    for r in results:\n",
    "        for box in r.boxes.data:\n",
    "            # Extract bounding box and class information\n",
    "            x1, y1, x2, y2, confidence, class_id = box.tolist()\n",
    "            class_name = model.names[int(class_id)]  # Get class name using model's class names\n",
    "\n",
    "            # Draw the bounding box\n",
    "            draw.rectangle([x1, y1, x2, y2], outline=\"red\", width=3)\n",
    "\n",
    "            # Create a label\n",
    "            label = f\"{class_name} ({confidence:.2f})\"\n",
    "\n",
    "            # Draw label inside the bounding box\n",
    "            text_bbox = draw.textbbox((x1, y1), label, font=font)\n",
    "            text_width = text_bbox[2] - text_bbox[0]\n",
    "            text_height = text_bbox[3] - text_bbox[1]\n",
    "\n",
    "            # Position text inside the bounding box, adjusted to fit\n",
    "            label_x = max(x1, 0) + 2\n",
    "            label_y = max(y1, 0) + 2\n",
    "\n",
    "            # Draw label background and text\n",
    "            draw.rectangle(\n",
    "                [label_x, label_y, label_x + text_width, label_y + text_height],\n",
    "                fill=\"red\",\n",
    "            )\n",
    "            draw.text((label_x, label_y), label, fill=\"white\", font=font)\n",
    "\n",
    "    # Resize the image to a fixed size for the collage\n",
    "    resized_image = image.resize((200, 200))  # Adjust size as needed\n",
    "    annotated_images.append(resized_image)\n",
    "\n",
    "# Determine collage dimensions (square layout)\n",
    "collage_size = ceil(sqrt(len(annotated_images)))  # Closest square size\n",
    "collage_width = collage_size * 200\n",
    "collage_height = collage_size * 200\n",
    "\n",
    "# Create the blank collage canvas\n",
    "collage = Image.new(\"RGB\", (collage_width, collage_height), color=\"white\")\n",
    "\n",
    "# Paste each image into the collage\n",
    "for i, annotated_image in enumerate(annotated_images):\n",
    "    row = i // collage_size\n",
    "    col = i % collage_size\n",
    "    x_offset = col * 200\n",
    "    y_offset = row * 200\n",
    "    collage.paste(annotated_image, (x_offset, y_offset))\n",
    "\n",
    "# Save the collage\n",
    "collage.save(output_collage)\n",
    "print(f\"Collage saved to {output_collage}\")\n",
    "collage.show()"
   ]
  },
  {
   "cell_type": "code",
   "execution_count": null,
   "metadata": {},
   "outputs": [],
   "source": [
    "print(\"hi\")"
   ]
  }
 ],
 "metadata": {
  "kernelspec": {
   "display_name": "Python 3",
   "language": "python",
   "name": "python3"
  },
  "language_info": {
   "codemirror_mode": {
    "name": "ipython",
    "version": 3
   },
   "file_extension": ".py",
   "mimetype": "text/x-python",
   "name": "python",
   "nbconvert_exporter": "python",
   "pygments_lexer": "ipython3",
   "version": "3.11.1"
  }
 },
 "nbformat": 4,
 "nbformat_minor": 2
}
