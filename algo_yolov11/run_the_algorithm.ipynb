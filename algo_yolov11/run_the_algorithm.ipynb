{
 "cells": [
  {
   "cell_type": "markdown",
   "metadata": {},
   "source": [
    " initialize yolov11 model."
   ]
  },
  {
   "cell_type": "code",
   "execution_count": 1,
   "metadata": {},
   "outputs": [],
   "source": [
    "from ultralytics import YOLO\n",
    "\n",
    "\n"
   ]
  },
  {
   "cell_type": "code",
   "execution_count": 2,
   "metadata": {},
   "outputs": [],
   "source": [
    "# Load a model\n",
    "# load a pretrained model (recommended for training)\n",
    "model = YOLO(\"yolo11n.pt\") \n",
    "\n"
   ]
  },
  {
   "cell_type": "code",
   "execution_count": null,
   "metadata": {},
   "outputs": [],
   "source": [
    "results = model.train(\n",
    "    data=\"/Users/kenton/HOME/coding/python/publish_the_paper/yolov11/dataset_tinkering/training_data_pn/dataset.yaml\",\n",
    "    epochs=10,\n",
    "    device=\"mps\",\n",
    "    \n",
    ")\n",
    "\n",
    "if results is None:\n",
    "    exit(0)"
   ]
  },
  {
   "cell_type": "code",
   "execution_count": null,
   "metadata": {},
   "outputs": [],
   "source": [
    "model.val()\n",
    "\n",
    "path = \"/Users/kenton/HOME/coding/python/publish_the_paper/create_ml_image_detection_databases/test_data/\"\n",
    "\n"
   ]
  },
  {
   "cell_type": "code",
   "execution_count": null,
   "metadata": {},
   "outputs": [],
   "source": [
    "\n",
    "# Perform inference on test images\n",
    "for i in range(10):  # Loop through 10 test images\n",
    "    img = path + f\"sig_{i}.png\"\n",
    "    \n",
    "    # Make predictions\n",
    "    results = model(img)\n",
    "    \n",
    "    # Retrieve and print predictions for the image\n",
    "    print(results[0].boxes.xyxy)  # Bounding boxes (x1, y1, x2, y2, confidence, class)\n",
    "    print(results[0].boxes.cls)  # Class IDs\n",
    "    print(results[0].boxes.conf)  # Confidence scores\n",
    "\n",
    "    # Save or display results\n",
    "    # results.save()  # Save annotated image to the default output directory\n",
    "    # results.show()  # Display the image with bounding boxes (optional)\n",
    "\n",
    "\n"
   ]
  }
 ],
 "metadata": {
  "kernelspec": {
   "display_name": "venv",
   "language": "python",
   "name": "python3"
  },
  "language_info": {
   "codemirror_mode": {
    "name": "ipython",
    "version": 3
   },
   "file_extension": ".py",
   "mimetype": "text/x-python",
   "name": "python",
   "nbconvert_exporter": "python",
   "pygments_lexer": "ipython3",
   "version": "3.12.3"
  }
 },
 "nbformat": 4,
 "nbformat_minor": 2
}
